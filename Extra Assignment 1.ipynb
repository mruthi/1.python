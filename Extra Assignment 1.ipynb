{
 "cells": [
  {
   "cell_type": "code",
   "execution_count": 2,
   "metadata": {},
   "outputs": [
    {
     "name": "stdout",
     "output_type": "stream",
     "text": [
      "HOPE AI\n"
     ]
    }
   ],
   "source": [
    "print(\"HOPE AI\")"
   ]
  },
  {
   "cell_type": "code",
   "execution_count": 3,
   "metadata": {},
   "outputs": [
    {
     "name": "stdout",
     "output_type": "stream",
     "text": [
      "Enter your Institute Name?  :HOPE AI\n"
     ]
    }
   ],
   "source": [
    "name=input(\"Enter your Institute Name?  :\")"
   ]
  },
  {
   "cell_type": "code",
   "execution_count": 4,
   "metadata": {},
   "outputs": [
    {
     "name": "stdout",
     "output_type": "stream",
     "text": [
      "Enter your Name :SIVASAKTHI\n",
      "Enter your Age :31\n",
      "Enter your School Name :GOVT SCHOOL\n",
      "Enter your degree :BSC (CS)\n"
     ]
    }
   ],
   "source": [
    "name1=input(\"Enter your Name :\")\n",
    "name2=input(\"Enter your Age :\")\n",
    "name3=input(\"Enter your School Name :\")\n",
    "name4=input(\"Enter your degree :\")\n"
   ]
  },
  {
   "cell_type": "code",
   "execution_count": 30,
   "metadata": {},
   "outputs": [
    {
     "name": "stdout",
     "output_type": "stream",
     "text": [
      "a:43\n",
      "b:34\n",
      "77\n"
     ]
    }
   ],
   "source": [
    "a=int(input(\"a:\"))\n",
    "b=int(input(\"b:\"))\n",
    "add=a+b\n",
    "print(add)"
   ]
  },
  {
   "cell_type": "code",
   "execution_count": 31,
   "metadata": {},
   "outputs": [
    {
     "name": "stdout",
     "output_type": "stream",
     "text": [
      "a:43\n",
      "b:34\n",
      "9\n"
     ]
    }
   ],
   "source": [
    "a=int(input(\"a:\"))\n",
    "b=int(input(\"b:\"))\n",
    "sub=a-b\n",
    "print(sub)"
   ]
  },
  {
   "cell_type": "code",
   "execution_count": 29,
   "metadata": {},
   "outputs": [
    {
     "name": "stdout",
     "output_type": "stream",
     "text": [
      "a:63\n",
      "b:97\n",
      "6111\n"
     ]
    }
   ],
   "source": [
    "a=int(input(\"a:\"))\n",
    "b=int(input(\"b:\"))\n",
    "mul=a*b\n",
    "print(mul)"
   ]
  },
  {
   "cell_type": "code",
   "execution_count": 32,
   "metadata": {},
   "outputs": [
    {
     "name": "stdout",
     "output_type": "stream",
     "text": [
      "a:76\n",
      "b:31\n",
      "2.4516129032258065\n"
     ]
    }
   ],
   "source": [
    "a=int(input(\"a:\"))\n",
    "b=int(input(\"b:\"))\n",
    "FloatDiv=a/b\n",
    "print(FloatDiv)"
   ]
  },
  {
   "cell_type": "code",
   "execution_count": 33,
   "metadata": {},
   "outputs": [
    {
     "name": "stdout",
     "output_type": "stream",
     "text": [
      "a:76\n",
      "b:31\n",
      "2\n"
     ]
    }
   ],
   "source": [
    "a=int(input(\"a:\"))\n",
    "b=int(input(\"b:\"))\n",
    "FloorDiv=a//b\n",
    "print(FloorDiv)"
   ]
  },
  {
   "cell_type": "code",
   "execution_count": 34,
   "metadata": {},
   "outputs": [
    {
     "name": "stdout",
     "output_type": "stream",
     "text": [
      "a:76\n",
      "b:31\n",
      "14\n"
     ]
    }
   ],
   "source": [
    "a=int(input(\"a:\"))\n",
    "b=int(input(\"b:\"))\n",
    "Modulo=a%b\n",
    "print(Modulo)"
   ]
  },
  {
   "cell_type": "code",
   "execution_count": 35,
   "metadata": {},
   "outputs": [
    {
     "name": "stdout",
     "output_type": "stream",
     "text": [
      "a:4\n",
      "b:4\n",
      "256\n"
     ]
    }
   ],
   "source": [
    "a=int(input(\"a:\"))\n",
    "b=int(input(\"b:\"))\n",
    "power=a**b\n",
    "print(power)"
   ]
  },
  {
   "cell_type": "code",
   "execution_count": null,
   "metadata": {},
   "outputs": [],
   "source": []
  }
 ],
 "metadata": {
  "kernelspec": {
   "display_name": "Python 3",
   "language": "python",
   "name": "python3"
  },
  "language_info": {
   "codemirror_mode": {
    "name": "ipython",
    "version": 3
   },
   "file_extension": ".py",
   "mimetype": "text/x-python",
   "name": "python",
   "nbconvert_exporter": "python",
   "pygments_lexer": "ipython3",
   "version": "3.7.4"
  }
 },
 "nbformat": 4,
 "nbformat_minor": 2
}
