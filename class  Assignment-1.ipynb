{
 "cells": [
  {
   "cell_type": "code",
   "execution_count": 1,
   "metadata": {},
   "outputs": [],
   "source": [
    "class subfieldsInAI():\n",
    "      def subfields():\n",
    "        lists=[\"Machine Learning\",\"Neural Networks\",\"Vision\",\"Robotics\",\"Speech Processing\",\"Natural Language Processing\"]\n",
    "        print(\"Sub fields in AI are\")\n",
    "        for subfields in lists:\n",
    "            print(subfields)\n",
    "            message=\"subfields\"\n",
    "        return message"
   ]
  },
  {
   "cell_type": "code",
   "execution_count": 2,
   "metadata": {},
   "outputs": [
    {
     "name": "stdout",
     "output_type": "stream",
     "text": [
      "Sub fields in AI are\n",
      "Machine Learning\n",
      "Neural Networks\n",
      "Vision\n",
      "Robotics\n",
      "Speech Processing\n",
      "Natural Language Processing\n"
     ]
    },
    {
     "data": {
      "text/plain": [
       "'subfields'"
      ]
     },
     "execution_count": 2,
     "metadata": {},
     "output_type": "execute_result"
    }
   ],
   "source": [
    "subfieldsInAI.subfields()"
   ]
  },
  {
   "cell_type": "code",
   "execution_count": 4,
   "metadata": {},
   "outputs": [],
   "source": [
    "class Oddeven():\n",
    "        def oddeven():\n",
    "            num=int(input(\"Enter a number:\"))\n",
    "            if((num%2)==0):\n",
    "                print(num,\" is even  number\")\n",
    "                message=\"is even number\"\n",
    "            else:\n",
    "                print(num,\"is odd number\")\n",
    "                message=\"is odd number\"\n",
    "            return message"
   ]
  },
  {
   "cell_type": "code",
   "execution_count": 5,
   "metadata": {},
   "outputs": [
    {
     "name": "stdout",
     "output_type": "stream",
     "text": [
      "Enter a number:32452\n",
      "32452  is even  number\n"
     ]
    },
    {
     "data": {
      "text/plain": [
       "'is even number'"
      ]
     },
     "execution_count": 5,
     "metadata": {},
     "output_type": "execute_result"
    }
   ],
   "source": [
    "Oddeven.oddeven()"
   ]
  },
  {
   "cell_type": "code",
   "execution_count": 6,
   "metadata": {},
   "outputs": [],
   "source": [
    "class EligibilityForMarriage():\n",
    "    def eligibilty():\n",
    "        gender=input(\"Enter your gender:\")\n",
    "        age=int(input(\"Enter your age:\"))\n",
    "        if(age<=21):\n",
    "            print(\"Not Eligible\")\n",
    "            message=\"Not Eligible\"\n",
    "        else:\n",
    "            print(\"Eligible\")\n",
    "            message=\"Eligible\"\n",
    "        return message"
   ]
  },
  {
   "cell_type": "code",
   "execution_count": 7,
   "metadata": {},
   "outputs": [
    {
     "name": "stdout",
     "output_type": "stream",
     "text": [
      "Enter your gender:male\n",
      "Enter your age:20\n",
      "Not Eligible\n"
     ]
    },
    {
     "data": {
      "text/plain": [
       "'Not Eligible'"
      ]
     },
     "execution_count": 7,
     "metadata": {},
     "output_type": "execute_result"
    }
   ],
   "source": [
    "EligibilityForMarriage.eligibilty()"
   ]
  },
  {
   "cell_type": "code",
   "execution_count": 8,
   "metadata": {},
   "outputs": [],
   "source": [
    "class Findpercent():\n",
    "    def percentage():\n",
    "        sub1=int(input(\"subject1=\"))\n",
    "        sub2=int(input(\"subject2=\"))\n",
    "        sub3=int(input(\"subject3=\"))\n",
    "        sub4=int(input(\"subject4=\"))\n",
    "        sub5=int(input(\"subject5=\"))\n",
    "        total=sub1+sub2+sub3+sub4+sub5\n",
    "        print((\"total :\"),total)\n",
    "        percentage=(total/5)\n",
    "        print(\"percentage :\",percentage)\n",
    "        message=\"percentage:\",percentage\n",
    "        return message"
   ]
  },
  {
   "cell_type": "code",
   "execution_count": 9,
   "metadata": {},
   "outputs": [
    {
     "name": "stdout",
     "output_type": "stream",
     "text": [
      "subject1=98\n",
      "subject2=87\n",
      "subject3=95\n",
      "subject4=95\n",
      "subject5=93\n",
      "total : 468\n",
      "percentage : 93.6\n"
     ]
    },
    {
     "data": {
      "text/plain": [
       "('percentage:', 93.6)"
      ]
     },
     "execution_count": 9,
     "metadata": {},
     "output_type": "execute_result"
    }
   ],
   "source": [
    "Findpercent.percentage()"
   ]
  },
  {
   "cell_type": "code",
   "execution_count": 10,
   "metadata": {},
   "outputs": [],
   "source": [
    "class triangle():\n",
    "    def triangle():\n",
    "        H=int(input(\"Height :\"))\n",
    "        B=int(input(\"Breadth :\"))\n",
    "        print(\"Area formula :(Height*breadth/2)\")\n",
    "        AreaOfTriangle=H*B/2\n",
    "        print(\"Area Of Triangle\",AreaOfTriangle)\n",
    "        message=\"Area Of Triangle\",AreaOfTriangle\n",
    "        H1=int(input(\"Height1 :\"))\n",
    "        H2=int(input(\"Height2 :\"))\n",
    "        B1=int(input(\"Breadth1 :\"))\n",
    "        print(\"Perimeter formula :(Height1+Height1+breadth)\")\n",
    "        PF=H1+H2+B1\n",
    "        print(\"Perimeter of triangle :\",PF)\n",
    "        message=\"Perimeter of triangle:\",PF\n",
    "        return message"
   ]
  },
  {
   "cell_type": "code",
   "execution_count": 11,
   "metadata": {},
   "outputs": [
    {
     "name": "stdout",
     "output_type": "stream",
     "text": [
      "Height :32\n",
      "Breadth :34\n",
      "Area formula :(Height*breadth/2)\n",
      "Area Of Triangle 544.0\n",
      "Height1 :2\n",
      "Height2 :4\n",
      "Breadth1 :4\n",
      "Perimeter formula :(Height1+Height1+breadth)\n",
      "Perimeter of triangle : 10\n"
     ]
    },
    {
     "data": {
      "text/plain": [
       "('Perimeter of triangle:', 10)"
      ]
     },
     "execution_count": 11,
     "metadata": {},
     "output_type": "execute_result"
    }
   ],
   "source": [
    "triangle.triangle()"
   ]
  },
  {
   "cell_type": "code",
   "execution_count": null,
   "metadata": {},
   "outputs": [],
   "source": []
  }
 ],
 "metadata": {
  "kernelspec": {
   "display_name": "Python 3",
   "language": "python",
   "name": "python3"
  },
  "language_info": {
   "codemirror_mode": {
    "name": "ipython",
    "version": 3
   },
   "file_extension": ".py",
   "mimetype": "text/x-python",
   "name": "python",
   "nbconvert_exporter": "python",
   "pygments_lexer": "ipython3",
   "version": "3.7.4"
  }
 },
 "nbformat": 4,
 "nbformat_minor": 2
}
